{
  "nbformat": 4,
  "nbformat_minor": 0,
  "metadata": {
    "colab": {
      "name": "Vans_Product_Classification_Model.ipynb",
      "provenance": [],
      "collapsed_sections": []
    },
    "kernelspec": {
      "name": "python3",
      "display_name": "Python 3"
    },
    "accelerator": "GPU"
  },
  "cells": [
    {
      "cell_type": "code",
      "metadata": {
        "id": "hQORDxHpT0Ol",
        "colab_type": "code",
        "colab": {}
      },
      "source": [
        "import pandas as pd\n",
        "import numpy as np\n",
        "import matplotlib.pyplot as plt\n",
        "%matplotlib inline\n",
        "import os\n",
        "import PIL\n",
        "import PIL.ImageOps\n",
        "import cv2\n",
        "from tqdm import tqdm\n",
        "import pickle\n",
        "\n",
        "from sklearn.model_selection import train_test_split\n",
        "import tensorflow as tf\n",
        "from tensorflow.keras.models import Sequential \n",
        "from tensorflow.keras.layers import Dense, Conv2D, MaxPool2D\n",
        "from tensorflow.keras.layers import Dropout, Activation, Flatten, BatchNormalization\n",
        "import tensorflow.keras \n",
        "from tensorflow.keras.utils import to_categorical \n",
        "from tensorflow.keras.preprocessing.image import ImageDataGenerator\n",
        "from tensorflow.keras import backend as K\n",
        "from tensorflow.keras.preprocessing import image\n",
        "from tensorflow.keras.callbacks import EarlyStopping\n",
        "from tensorflow.keras.callbacks import TensorBoard\n",
        "import time"
      ],
      "execution_count": 1,
      "outputs": []
    },
    {
      "cell_type": "code",
      "metadata": {
        "id": "CdaN1gydVXIR",
        "colab_type": "code",
        "colab": {
          "base_uri": "https://localhost:8080/",
          "height": 153
        },
        "outputId": "0fed577e-3639-45a3-d98d-9d997f1d341f"
      },
      "source": [
        "from tensorflow.keras.datasets import fashion_mnist\n",
        "(X_train, y_train), (X_test, y_test) = tf.keras.datasets.fashion_mnist.load_data()"
      ],
      "execution_count": 2,
      "outputs": [
        {
          "output_type": "stream",
          "text": [
            "Downloading data from https://storage.googleapis.com/tensorflow/tf-keras-datasets/train-labels-idx1-ubyte.gz\n",
            "32768/29515 [=================================] - 0s 0us/step\n",
            "Downloading data from https://storage.googleapis.com/tensorflow/tf-keras-datasets/train-images-idx3-ubyte.gz\n",
            "26427392/26421880 [==============================] - 0s 0us/step\n",
            "Downloading data from https://storage.googleapis.com/tensorflow/tf-keras-datasets/t10k-labels-idx1-ubyte.gz\n",
            "8192/5148 [===============================================] - 0s 0us/step\n",
            "Downloading data from https://storage.googleapis.com/tensorflow/tf-keras-datasets/t10k-images-idx3-ubyte.gz\n",
            "4423680/4422102 [==============================] - 0s 0us/step\n"
          ],
          "name": "stdout"
        }
      ]
    },
    {
      "cell_type": "code",
      "metadata": {
        "id": "oG1Nwurvi_Kp",
        "colab_type": "code",
        "colab": {
          "base_uri": "https://localhost:8080/",
          "height": 122
        },
        "outputId": "0cafd17d-da7e-48e3-f55d-e1d40450750a"
      },
      "source": [
        "from google.colab import drive\n",
        "drive.mount('/content/drive')"
      ],
      "execution_count": 3,
      "outputs": [
        {
          "output_type": "stream",
          "text": [
            "Go to this URL in a browser: https://accounts.google.com/o/oauth2/auth?client_id=947318989803-6bn6qk8qdgf4n4g3pfee6491hc0brc4i.apps.googleusercontent.com&redirect_uri=urn%3aietf%3awg%3aoauth%3a2.0%3aoob&scope=email%20https%3a%2f%2fwww.googleapis.com%2fauth%2fdocs.test%20https%3a%2f%2fwww.googleapis.com%2fauth%2fdrive%20https%3a%2f%2fwww.googleapis.com%2fauth%2fdrive.photos.readonly%20https%3a%2f%2fwww.googleapis.com%2fauth%2fpeopleapi.readonly&response_type=code\n",
            "\n",
            "Enter your authorization code:\n",
            "··········\n",
            "Mounted at /content/drive\n"
          ],
          "name": "stdout"
        }
      ]
    },
    {
      "cell_type": "code",
      "metadata": {
        "id": "gTmjWGrKhaYF",
        "colab_type": "code",
        "colab": {}
      },
      "source": [
        "path = '/content/drive/My Drive/Google_Colab/Vans_Image_Classifier'\n",
        "os.chdir(path)"
      ],
      "execution_count": 4,
      "outputs": []
    },
    {
      "cell_type": "markdown",
      "metadata": {
        "id": "-Ipdv7GOojUO",
        "colab_type": "text"
      },
      "source": [
        "Label Description\n",
        "\n",
        "0 T-shirt/top\n",
        "\n",
        "1 Trouser\n",
        "\n",
        "2 Pullover\n",
        "\n",
        "3 Dress\n",
        "\n",
        "4 Coat\n",
        "\n",
        "5 Sandal\n",
        "\n",
        "6 Shirt\n",
        "\n",
        "7 Sneaker\n",
        "\n",
        "8 Bag\n",
        "\n",
        "9 Ankle boot"
      ]
    },
    {
      "cell_type": "code",
      "metadata": {
        "id": "WnslB_TUoulm",
        "colab_type": "code",
        "colab": {}
      },
      "source": [
        "labels = {0: 'T-shirt/top', 1: 'Trouser', 2: 'Pullover', 3: 'Dress', 4: 'Coat',\n",
        "5: 'Sandal', 6: 'Shirt', 7: 'Sneaker', 8: 'Bag', 9: 'Ankle boot'}"
      ],
      "execution_count": 5,
      "outputs": []
    },
    {
      "cell_type": "code",
      "metadata": {
        "id": "G2oSvPPAN2sJ",
        "colab_type": "code",
        "colab": {}
      },
      "source": [
        "X_train = X_train / 255.0\n",
        "X_test = X_test / 255.0\n",
        "\n",
        "X_train = X_train.reshape(X_train.shape[0], 28, 28, 1)\n",
        "X_test = X_test.reshape(X_test.shape[0], 28, 28, 1)\n",
        "\n",
        "y_train = y_train.reshape(-1, 1)\n",
        "y_test = y_test.reshape(-1, 1)"
      ],
      "execution_count": 6,
      "outputs": []
    },
    {
      "cell_type": "markdown",
      "metadata": {
        "id": "v44ogdYcDXeQ",
        "colab_type": "text"
      },
      "source": [
        "# Model Building"
      ]
    },
    {
      "cell_type": "markdown",
      "metadata": {
        "id": "AcgFyZtUDa1o",
        "colab_type": "text"
      },
      "source": [
        "## Simple Model"
      ]
    },
    {
      "cell_type": "code",
      "metadata": {
        "id": "O4Q3wXX1V3FD",
        "colab_type": "code",
        "colab": {}
      },
      "source": [
        "model = Sequential()\n",
        "\n",
        "model.add(Conv2D(64, kernel_size=(2, 2), activation='relu', input_shape=(28, 28, 1)))\n",
        "model.add(BatchNormalization())\n",
        "\n",
        "model.add(Conv2D(64, kernel_size=(2, 2), padding='same'))\n",
        "model.add(MaxPool2D())\n",
        "model.add(BatchNormalization())\n",
        "model.add(Dropout(0.3))\n",
        "\n",
        "model.add(Conv2D(128, kernel_size=(2, 2), padding='same'))\n",
        "model.add(MaxPool2D())\n",
        "model.add(BatchNormalization())\n",
        "model.add(Dropout(0.3))\n",
        "\n",
        "model.add(Flatten())\n",
        "model.add(Dense(256, activation='relu'))\n",
        "model.add(Dense(10, activation='softmax'))"
      ],
      "execution_count": null,
      "outputs": []
    },
    {
      "cell_type": "code",
      "metadata": {
        "id": "6uOv5LB8WbFH",
        "colab_type": "code",
        "colab": {
          "base_uri": "https://localhost:8080/",
          "height": 595
        },
        "outputId": "b2d97aac-efdf-46c4-bfb3-c1b79cddba06"
      },
      "source": [
        "model.summary()"
      ],
      "execution_count": null,
      "outputs": [
        {
          "output_type": "stream",
          "text": [
            "Model: \"sequential\"\n",
            "_________________________________________________________________\n",
            "Layer (type)                 Output Shape              Param #   \n",
            "=================================================================\n",
            "conv2d (Conv2D)              (None, 27, 27, 64)        320       \n",
            "_________________________________________________________________\n",
            "batch_normalization (BatchNo (None, 27, 27, 64)        256       \n",
            "_________________________________________________________________\n",
            "conv2d_1 (Conv2D)            (None, 27, 27, 64)        16448     \n",
            "_________________________________________________________________\n",
            "max_pooling2d (MaxPooling2D) (None, 13, 13, 64)        0         \n",
            "_________________________________________________________________\n",
            "batch_normalization_1 (Batch (None, 13, 13, 64)        256       \n",
            "_________________________________________________________________\n",
            "dropout (Dropout)            (None, 13, 13, 64)        0         \n",
            "_________________________________________________________________\n",
            "conv2d_2 (Conv2D)            (None, 13, 13, 128)       32896     \n",
            "_________________________________________________________________\n",
            "max_pooling2d_1 (MaxPooling2 (None, 6, 6, 128)         0         \n",
            "_________________________________________________________________\n",
            "batch_normalization_2 (Batch (None, 6, 6, 128)         512       \n",
            "_________________________________________________________________\n",
            "dropout_1 (Dropout)          (None, 6, 6, 128)         0         \n",
            "_________________________________________________________________\n",
            "flatten (Flatten)            (None, 4608)              0         \n",
            "_________________________________________________________________\n",
            "dense (Dense)                (None, 256)               1179904   \n",
            "_________________________________________________________________\n",
            "dense_1 (Dense)              (None, 10)                2570      \n",
            "=================================================================\n",
            "Total params: 1,233,162\n",
            "Trainable params: 1,232,650\n",
            "Non-trainable params: 512\n",
            "_________________________________________________________________\n"
          ],
          "name": "stdout"
        }
      ]
    },
    {
      "cell_type": "code",
      "metadata": {
        "id": "S5cSPrVfYKDd",
        "colab_type": "code",
        "colab": {}
      },
      "source": [
        "model.compile(optimizer='adam', loss='binary_crossentropy', metrics=['accuracy'])"
      ],
      "execution_count": null,
      "outputs": []
    },
    {
      "cell_type": "code",
      "metadata": {
        "id": "7iET7_xdXGwk",
        "colab_type": "code",
        "colab": {
          "base_uri": "https://localhost:8080/",
          "height": 374
        },
        "outputId": "b00d5df3-4dca-4cec-8903-210e9f70852d"
      },
      "source": [
        "model.fit(X_train, y_train, batch_size=32,\n",
        "          epochs=10, validation_data=(X_test, y_test))"
      ],
      "execution_count": null,
      "outputs": [
        {
          "output_type": "stream",
          "text": [
            "Epoch 1/10\n",
            "1875/1875 [==============================] - 9s 5ms/step - loss: 10.0240 - accuracy: 0.1018 - val_loss: 9.9930 - val_accuracy: 0.1003\n",
            "Epoch 2/10\n",
            "1875/1875 [==============================] - 8s 4ms/step - loss: 9.9954 - accuracy: 0.1003 - val_loss: 9.9934 - val_accuracy: 0.0997\n",
            "Epoch 3/10\n",
            "1875/1875 [==============================] - 9s 5ms/step - loss: 9.9938 - accuracy: 0.0990 - val_loss: 9.9932 - val_accuracy: 0.1000\n",
            "Epoch 4/10\n",
            "1875/1875 [==============================] - 8s 5ms/step - loss: 9.9935 - accuracy: 0.1011 - val_loss: 9.9930 - val_accuracy: 0.1000\n",
            "Epoch 5/10\n",
            "1875/1875 [==============================] - 9s 5ms/step - loss: 9.9929 - accuracy: 0.1028 - val_loss: 9.9929 - val_accuracy: 0.1001\n",
            "Epoch 6/10\n",
            "1875/1875 [==============================] - 9s 5ms/step - loss: 9.9930 - accuracy: 0.1011 - val_loss: 9.9929 - val_accuracy: 0.1000\n",
            "Epoch 7/10\n",
            "1875/1875 [==============================] - 9s 5ms/step - loss: 9.9929 - accuracy: 0.1009 - val_loss: 9.9929 - val_accuracy: 0.1000\n",
            "Epoch 8/10\n",
            "1875/1875 [==============================] - 9s 5ms/step - loss: 9.9929 - accuracy: 0.1008 - val_loss: 9.9929 - val_accuracy: 0.1000\n",
            "Epoch 9/10\n",
            "1875/1875 [==============================] - 9s 5ms/step - loss: 9.9929 - accuracy: 0.1001 - val_loss: 10.0050 - val_accuracy: 0.0994\n",
            "Epoch 10/10\n",
            "1875/1875 [==============================] - 9s 5ms/step - loss: 9.9929 - accuracy: 0.1007 - val_loss: 9.9929 - val_accuracy: 0.1000\n"
          ],
          "name": "stdout"
        },
        {
          "output_type": "execute_result",
          "data": {
            "text/plain": [
              "<tensorflow.python.keras.callbacks.History at 0x7f4ed25996d8>"
            ]
          },
          "metadata": {
            "tags": []
          },
          "execution_count": 11
        }
      ]
    },
    {
      "cell_type": "code",
      "metadata": {
        "id": "T4qDvYMGaJBU",
        "colab_type": "code",
        "colab": {
          "base_uri": "https://localhost:8080/",
          "height": 35
        },
        "outputId": "bc6d2e23-0a30-426d-c911-f0abf7e7a925"
      },
      "source": [
        "y_pred = model.predict(X_test)\n",
        "labels[np.argsort(y_pred[0])[-1]]"
      ],
      "execution_count": null,
      "outputs": [
        {
          "output_type": "execute_result",
          "data": {
            "application/vnd.google.colaboratory.intrinsic+json": {
              "type": "string"
            },
            "text/plain": [
              "'Ankle boot'"
            ]
          },
          "metadata": {
            "tags": []
          },
          "execution_count": 12
        }
      ]
    },
    {
      "cell_type": "code",
      "metadata": {
        "id": "t81jUs78aa9v",
        "colab_type": "code",
        "colab": {
          "base_uri": "https://localhost:8080/",
          "height": 282
        },
        "outputId": "8c3245f6-0d61-4f27-f343-e2e8666e4546"
      },
      "source": [
        "plt.imshow(X_test[0][:, :, 0], cmap='gray')"
      ],
      "execution_count": null,
      "outputs": [
        {
          "output_type": "execute_result",
          "data": {
            "text/plain": [
              "<matplotlib.image.AxesImage at 0x7f4ed224f358>"
            ]
          },
          "metadata": {
            "tags": []
          },
          "execution_count": 13
        },
        {
          "output_type": "display_data",
          "data": {
            "image/png": "[encoded data removed]",
            "text/plain": [
              "<Figure size 432x288 with 1 Axes>"
            ]
          },
          "metadata": {
            "tags": [],
            "needs_background": "light"
          }
        }
      ]
    },
    {
      "cell_type": "markdown",
      "metadata": {
        "id": "1g4ouH_epM6N",
        "colab_type": "text"
      },
      "source": [
        "That is a high top shoe, not a T-shirt/ Top!"
      ]
    },
    {
      "cell_type": "markdown",
      "metadata": {
        "id": "8pY6amj_pSBC",
        "colab_type": "text"
      },
      "source": [
        "## Iterating Through Models"
      ]
    },
    {
      "cell_type": "code",
      "metadata": {
        "id": "vqVn60DmpRU1",
        "colab_type": "code",
        "colab": {
          "base_uri": "https://localhost:8080/",
          "height": 1000
        },
        "outputId": "b15e0281-5b32-4ad4-e851-fdeae4527a07"
      },
      "source": [
        "layer_sizes = [32, 64, 128]\n",
        "dense_layers = [0, 1, 2]\n",
        "convolution_layers = [2, 3]\n",
        "\n",
        "\n",
        "\n",
        "for dense_layer in dense_layers:\n",
        "  for layer_size in layer_sizes:\n",
        "    for conv_layer in convolution_layers:\n",
        "\n",
        "      model_name = f'{conv_layer}-conv-{layer_size}-neurons-{dense_layer}-dense'\n",
        "      print(model_name)\n",
        "\n",
        "      model = Sequential()\n",
        "\n",
        "      model.add(Conv2D(layer_size, (3, 3), activation='relu'))\n",
        "      model.add(BatchNormalization())\n",
        "      model.add(MaxPool2D((2, 2), padding='same'))\n",
        "\n",
        "      for i in range(conv_layer-1):\n",
        "        model.add(Conv2D(layer_size, (3, 3), activation='relu'))\n",
        "        model.add(BatchNormalization())\n",
        "        model.add(MaxPool2D((2, 2)))\n",
        "\n",
        "      model.add(Flatten())\n",
        "\n",
        "      for i in range(dense_layer):\n",
        "        model.add(Dense(layer_size, activation='relu'))\n",
        "        model.add(BatchNormalization())\n",
        "        model.add(Dropout(0.3))\n",
        "\n",
        "      model.add(Dense(10, activation='softmax'))\n",
        "\n",
        "      model.compile(optimizer='adam', loss='sparse_categorical_crossentropy', metrics=['accuracy'])\n",
        "\n",
        "      early_stop = EarlyStopping(monitor='val_loss', patience=2, mode='min', min_delta=0.3)\n",
        "      tensorboard = TensorBoard('logs/{}'.format(model_name))\n",
        "\n",
        "      model.fit(X_train, y_train, batch_size=64, epochs=10, \n",
        "                callbacks=[early_stop, tensorboard], validation_data=(X_test, y_test))"
      ],
      "execution_count": null,
      "outputs": [
        {
          "output_type": "stream",
          "text": [
            "2-conv-32-neurons-0-dense\n",
            "Epoch 1/10\n",
            "  1/938 [..............................] - ETA: 0s - loss: 4.1590 - accuracy: 0.0312WARNING:tensorflow:From /usr/local/lib/python3.6/dist-packages/tensorflow/python/ops/summary_ops_v2.py:1277: stop (from tensorflow.python.eager.profiler) is deprecated and will be removed after 2020-07-01.\n",
            "Instructions for updating:\n",
            "use `tf.profiler.experimental.stop` instead.\n",
            "  2/938 [..............................] - ETA: 54s - loss: 3.6999 - accuracy: 0.0625WARNING:tensorflow:Callbacks method `on_train_batch_end` is slow compared to the batch time (batch time: 0.0113s vs `on_train_batch_end` time: 0.1046s). Check your callbacks.\n",
            "938/938 [==============================] - 7s 7ms/step - loss: 0.4451 - accuracy: 0.8418 - val_loss: 0.3629 - val_accuracy: 0.8708\n",
            "Epoch 2/10\n",
            "938/938 [==============================] - 6s 7ms/step - loss: 0.3070 - accuracy: 0.8905 - val_loss: 0.3250 - val_accuracy: 0.8864\n",
            "Epoch 3/10\n",
            "938/938 [==============================] - 6s 7ms/step - loss: 0.2732 - accuracy: 0.9018 - val_loss: 0.3290 - val_accuracy: 0.8822\n",
            "3-conv-32-neurons-0-dense\n",
            "Epoch 1/10\n",
            "  2/938 [..............................] - ETA: 58s - loss: 3.2313 - accuracy: 0.1250WARNING:tensorflow:Callbacks method `on_train_batch_end` is slow compared to the batch time (batch time: 0.0099s vs `on_train_batch_end` time: 0.1162s). Check your callbacks.\n",
            "938/938 [==============================] - 7s 8ms/step - loss: 0.5245 - accuracy: 0.8133 - val_loss: 0.4324 - val_accuracy: 0.8432\n",
            "Epoch 2/10\n",
            "938/938 [==============================] - 7s 7ms/step - loss: 0.3719 - accuracy: 0.8647 - val_loss: 0.3829 - val_accuracy: 0.8618\n",
            "Epoch 3/10\n",
            "938/938 [==============================] - 7s 7ms/step - loss: 0.3267 - accuracy: 0.8799 - val_loss: 0.3877 - val_accuracy: 0.8583\n",
            "2-conv-64-neurons-0-dense\n",
            "Epoch 1/10\n",
            "  2/938 [..............................] - ETA: 58s - loss: 2.4359 - accuracy: 0.2500WARNING:tensorflow:Callbacks method `on_train_batch_end` is slow compared to the batch time (batch time: 0.0085s vs `on_train_batch_end` time: 0.1176s). Check your callbacks.\n",
            "938/938 [==============================] - 10s 11ms/step - loss: 0.4141 - accuracy: 0.8530 - val_loss: 0.4051 - val_accuracy: 0.8530\n",
            "Epoch 2/10\n",
            "938/938 [==============================] - 10s 10ms/step - loss: 0.3011 - accuracy: 0.8932 - val_loss: 0.3123 - val_accuracy: 0.8873\n",
            "Epoch 3/10\n",
            "938/938 [==============================] - 10s 10ms/step - loss: 0.2622 - accuracy: 0.9047 - val_loss: 0.3819 - val_accuracy: 0.8743\n",
            "3-conv-64-neurons-0-dense\n",
            "Epoch 1/10\n",
            "  2/938 [..............................] - ETA: 1:12 - loss: 3.7073 - accuracy: 0.1484WARNING:tensorflow:Callbacks method `on_train_batch_end` is slow compared to the batch time (batch time: 0.0093s vs `on_train_batch_end` time: 0.1457s). Check your callbacks.\n",
            "938/938 [==============================] - 11s 12ms/step - loss: 0.4688 - accuracy: 0.8313 - val_loss: 0.4390 - val_accuracy: 0.8420\n",
            "Epoch 2/10\n",
            "938/938 [==============================] - 11s 12ms/step - loss: 0.3317 - accuracy: 0.8795 - val_loss: 0.3916 - val_accuracy: 0.8664\n",
            "Epoch 3/10\n",
            "938/938 [==============================] - 11s 12ms/step - loss: 0.2863 - accuracy: 0.8948 - val_loss: 0.3472 - val_accuracy: 0.8782\n",
            "2-conv-128-neurons-0-dense\n",
            "Epoch 1/10\n",
            "  2/938 [..............................] - ETA: 1:11 - loss: 2.7809 - accuracy: 0.2891WARNING:tensorflow:Callbacks method `on_train_batch_end` is slow compared to the batch time (batch time: 0.0134s vs `on_train_batch_end` time: 0.1383s). Check your callbacks.\n",
            "938/938 [==============================] - 17s 18ms/step - loss: 0.4356 - accuracy: 0.8522 - val_loss: 0.5531 - val_accuracy: 0.8380\n",
            "Epoch 2/10\n",
            "938/938 [==============================] - 16s 17ms/step - loss: 0.3113 - accuracy: 0.8918 - val_loss: 0.3073 - val_accuracy: 0.8920\n",
            "Epoch 3/10\n",
            "938/938 [==============================] - 16s 17ms/step - loss: 0.2670 - accuracy: 0.9066 - val_loss: 0.3591 - val_accuracy: 0.8817\n",
            "3-conv-128-neurons-0-dense\n",
            "Epoch 1/10\n",
            "  2/938 [..............................] - ETA: 1:19 - loss: 2.7381 - accuracy: 0.2578WARNING:tensorflow:Callbacks method `on_train_batch_end` is slow compared to the batch time (batch time: 0.0138s vs `on_train_batch_end` time: 0.1554s). Check your callbacks.\n",
            "938/938 [==============================] - 19s 20ms/step - loss: 0.4288 - accuracy: 0.8453 - val_loss: 0.4110 - val_accuracy: 0.8491\n",
            "Epoch 2/10\n",
            "938/938 [==============================] - 18s 19ms/step - loss: 0.3101 - accuracy: 0.8866 - val_loss: 0.3976 - val_accuracy: 0.8625\n",
            "Epoch 3/10\n",
            "938/938 [==============================] - 18s 19ms/step - loss: 0.2616 - accuracy: 0.9034 - val_loss: 0.3462 - val_accuracy: 0.8712\n",
            "2-conv-32-neurons-1-dense\n",
            "Epoch 1/10\n",
            "  2/938 [..............................] - ETA: 1:14 - loss: 3.3523 - accuracy: 0.0703WARNING:tensorflow:Callbacks method `on_train_batch_end` is slow compared to the batch time (batch time: 0.0123s vs `on_train_batch_end` time: 0.1463s). Check your callbacks.\n",
            "938/938 [==============================] - 7s 8ms/step - loss: 0.5300 - accuracy: 0.8199 - val_loss: 0.3630 - val_accuracy: 0.8704\n",
            "Epoch 2/10\n",
            "938/938 [==============================] - 7s 8ms/step - loss: 0.3510 - accuracy: 0.8781 - val_loss: 0.3370 - val_accuracy: 0.8825\n",
            "Epoch 3/10\n",
            "938/938 [==============================] - 7s 8ms/step - loss: 0.3128 - accuracy: 0.8895 - val_loss: 0.3167 - val_accuracy: 0.8846\n",
            "3-conv-32-neurons-1-dense\n",
            "Epoch 1/10\n",
            "  2/938 [..............................] - ETA: 1:29 - loss: 2.8363 - accuracy: 0.1328WARNING:tensorflow:Callbacks method `on_train_batch_end` is slow compared to the batch time (batch time: 0.0112s vs `on_train_batch_end` time: 0.1790s). Check your callbacks.\n",
            "938/938 [==============================] - 8s 9ms/step - loss: 0.6579 - accuracy: 0.7771 - val_loss: 0.4756 - val_accuracy: 0.8262\n",
            "Epoch 2/10\n",
            "938/938 [==============================] - 8s 8ms/step - loss: 0.4414 - accuracy: 0.8465 - val_loss: 0.4100 - val_accuracy: 0.8565\n",
            "Epoch 3/10\n",
            "938/938 [==============================] - 8s 8ms/step - loss: 0.3845 - accuracy: 0.8653 - val_loss: 0.3766 - val_accuracy: 0.8609\n",
            "2-conv-64-neurons-1-dense\n",
            "Epoch 1/10\n",
            "  2/938 [..............................] - ETA: 1:20 - loss: 2.4481 - accuracy: 0.2656WARNING:tensorflow:Callbacks method `on_train_batch_end` is slow compared to the batch time (batch time: 0.0110s vs `on_train_batch_end` time: 0.1602s). Check your callbacks.\n",
            "938/938 [==============================] - 11s 12ms/step - loss: 0.4380 - accuracy: 0.8463 - val_loss: 0.3392 - val_accuracy: 0.8726\n",
            "Epoch 2/10\n",
            "938/938 [==============================] - 11s 11ms/step - loss: 0.3062 - accuracy: 0.8915 - val_loss: 0.2929 - val_accuracy: 0.8933\n",
            "Epoch 3/10\n",
            "938/938 [==============================] - 11s 11ms/step - loss: 0.2669 - accuracy: 0.9025 - val_loss: 0.4583 - val_accuracy: 0.8512\n",
            "3-conv-64-neurons-1-dense\n",
            "Epoch 1/10\n",
            "  2/938 [..............................] - ETA: 1:14 - loss: 2.7744 - accuracy: 0.2344WARNING:tensorflow:Callbacks method `on_train_batch_end` is slow compared to the batch time (batch time: 0.0159s vs `on_train_batch_end` time: 0.1433s). Check your callbacks.\n",
            "938/938 [==============================] - 12s 13ms/step - loss: 0.5388 - accuracy: 0.8122 - val_loss: 0.4160 - val_accuracy: 0.8514\n",
            "Epoch 2/10\n",
            "938/938 [==============================] - 12s 13ms/step - loss: 0.3695 - accuracy: 0.8675 - val_loss: 0.3656 - val_accuracy: 0.8680\n",
            "Epoch 3/10\n",
            "938/938 [==============================] - 12s 13ms/step - loss: 0.3221 - accuracy: 0.8849 - val_loss: 0.3652 - val_accuracy: 0.8704\n",
            "2-conv-128-neurons-1-dense\n",
            "Epoch 1/10\n",
            "  2/938 [..............................] - ETA: 1:20 - loss: 2.5218 - accuracy: 0.2734WARNING:tensorflow:Callbacks method `on_train_batch_end` is slow compared to the batch time (batch time: 0.0173s vs `on_train_batch_end` time: 0.1543s). Check your callbacks.\n",
            "938/938 [==============================] - 18s 19ms/step - loss: 0.4130 - accuracy: 0.8542 - val_loss: 0.3631 - val_accuracy: 0.8644\n",
            "Epoch 2/10\n",
            "938/938 [==============================] - 17s 18ms/step - loss: 0.2866 - accuracy: 0.8947 - val_loss: 0.2851 - val_accuracy: 0.8978\n",
            "Epoch 3/10\n",
            "938/938 [==============================] - 17s 18ms/step - loss: 0.2447 - accuracy: 0.9106 - val_loss: 0.2870 - val_accuracy: 0.8962\n",
            "3-conv-128-neurons-1-dense\n",
            "Epoch 1/10\n",
            "  2/938 [..............................] - ETA: 1:21 - loss: 2.8378 - accuracy: 0.1797WARNING:tensorflow:Callbacks method `on_train_batch_end` is slow compared to the batch time (batch time: 0.0146s vs `on_train_batch_end` time: 0.1590s). Check your callbacks.\n",
            "938/938 [==============================] - 20s 21ms/step - loss: 0.5016 - accuracy: 0.8229 - val_loss: 0.4073 - val_accuracy: 0.8527\n",
            "Epoch 2/10\n",
            "938/938 [==============================] - 19s 20ms/step - loss: 0.3411 - accuracy: 0.8770 - val_loss: 0.4219 - val_accuracy: 0.8495\n",
            "Epoch 3/10\n",
            "938/938 [==============================] - 19s 21ms/step - loss: 0.2946 - accuracy: 0.8927 - val_loss: 0.3981 - val_accuracy: 0.8534\n",
            "2-conv-32-neurons-2-dense\n",
            "Epoch 1/10\n",
            "  2/938 [..............................] - ETA: 1:33 - loss: 3.1456 - accuracy: 0.0859WARNING:tensorflow:Callbacks method `on_train_batch_end` is slow compared to the batch time (batch time: 0.0131s vs `on_train_batch_end` time: 0.1851s). Check your callbacks.\n",
            "938/938 [==============================] - 9s 10ms/step - loss: 0.6766 - accuracy: 0.7699 - val_loss: 0.3855 - val_accuracy: 0.8627\n",
            "Epoch 2/10\n",
            "938/938 [==============================] - 8s 9ms/step - loss: 0.4187 - accuracy: 0.8581 - val_loss: 0.3358 - val_accuracy: 0.8837\n",
            "Epoch 3/10\n",
            "938/938 [==============================] - 9s 9ms/step - loss: 0.3632 - accuracy: 0.8764 - val_loss: 0.3194 - val_accuracy: 0.8849\n",
            "3-conv-32-neurons-2-dense\n",
            "Epoch 1/10\n",
            "  2/938 [..............................] - ETA: 1:31 - loss: 3.0851 - accuracy: 0.1016WARNING:tensorflow:Callbacks method `on_train_batch_end` is slow compared to the batch time (batch time: 0.0158s vs `on_train_batch_end` time: 0.1782s). Check your callbacks.\n",
            "938/938 [==============================] - 9s 10ms/step - loss: 0.8208 - accuracy: 0.7226 - val_loss: 0.4790 - val_accuracy: 0.8240\n",
            "Epoch 2/10\n",
            "938/938 [==============================] - 9s 10ms/step - loss: 0.5187 - accuracy: 0.8245 - val_loss: 0.4261 - val_accuracy: 0.8481\n",
            "Epoch 3/10\n",
            "938/938 [==============================] - 9s 9ms/step - loss: 0.4504 - accuracy: 0.8489 - val_loss: 0.3857 - val_accuracy: 0.8631\n",
            "2-conv-64-neurons-2-dense\n",
            "Epoch 1/10\n",
            "  2/938 [..............................] - ETA: 1:38 - loss: 2.5920 - accuracy: 0.1875WARNING:tensorflow:Callbacks method `on_train_batch_end` is slow compared to the batch time (batch time: 0.0177s vs `on_train_batch_end` time: 0.1917s). Check your callbacks.\n",
            "938/938 [==============================] - 12s 13ms/step - loss: 0.5333 - accuracy: 0.8128 - val_loss: 0.4141 - val_accuracy: 0.8459\n",
            "Epoch 2/10\n",
            "938/938 [==============================] - 11s 12ms/step - loss: 0.3454 - accuracy: 0.8785 - val_loss: 0.3448 - val_accuracy: 0.8755\n",
            "Epoch 3/10\n",
            "938/938 [==============================] - 12s 12ms/step - loss: 0.2990 - accuracy: 0.8949 - val_loss: 0.3168 - val_accuracy: 0.8806\n",
            "3-conv-64-neurons-2-dense\n",
            "Epoch 1/10\n",
            "  2/938 [..............................] - ETA: 1:36 - loss: 3.4870 - accuracy: 0.0625WARNING:tensorflow:Callbacks method `on_train_batch_end` is slow compared to the batch time (batch time: 0.0162s vs `on_train_batch_end` time: 0.1887s). Check your callbacks.\n",
            "938/938 [==============================] - 13s 14ms/step - loss: 0.6406 - accuracy: 0.7791 - val_loss: 0.4455 - val_accuracy: 0.8441\n",
            "Epoch 2/10\n",
            "938/938 [==============================] - 13s 13ms/step - loss: 0.4135 - accuracy: 0.8553 - val_loss: 0.3664 - val_accuracy: 0.8680\n",
            "Epoch 3/10\n",
            "938/938 [==============================] - 13s 13ms/step - loss: 0.3617 - accuracy: 0.8735 - val_loss: 0.4053 - val_accuracy: 0.8582\n",
            "2-conv-128-neurons-2-dense\n",
            "Epoch 1/10\n",
            "  2/938 [..............................] - ETA: 1:49 - loss: 2.9318 - accuracy: 0.1797WARNING:tensorflow:Callbacks method `on_train_batch_end` is slow compared to the batch time (batch time: 0.0178s vs `on_train_batch_end` time: 0.2148s). Check your callbacks.\n",
            "938/938 [==============================] - 18s 20ms/step - loss: 0.4816 - accuracy: 0.8282 - val_loss: 0.3803 - val_accuracy: 0.8499\n",
            "Epoch 2/10\n",
            "938/938 [==============================] - 18s 19ms/step - loss: 0.3156 - accuracy: 0.8862 - val_loss: 0.3088 - val_accuracy: 0.8870\n",
            "Epoch 3/10\n",
            "938/938 [==============================] - 18s 19ms/step - loss: 0.2744 - accuracy: 0.9008 - val_loss: 0.2653 - val_accuracy: 0.9010\n",
            "3-conv-128-neurons-2-dense\n",
            "Epoch 1/10\n",
            "  2/938 [..............................] - ETA: 1:40 - loss: 2.7243 - accuracy: 0.1562WARNING:tensorflow:Callbacks method `on_train_batch_end` is slow compared to the batch time (batch time: 0.0215s vs `on_train_batch_end` time: 0.1919s). Check your callbacks.\n",
            "938/938 [==============================] - 20s 22ms/step - loss: 0.5740 - accuracy: 0.7965 - val_loss: 0.4183 - val_accuracy: 0.8420\n",
            "Epoch 2/10\n",
            "938/938 [==============================] - 20s 21ms/step - loss: 0.3748 - accuracy: 0.8657 - val_loss: 0.3654 - val_accuracy: 0.8703\n",
            "Epoch 3/10\n",
            "938/938 [==============================] - 20s 21ms/step - loss: 0.3207 - accuracy: 0.8861 - val_loss: 0.3381 - val_accuracy: 0.8766\n"
          ],
          "name": "stdout"
        }
      ]
    },
    {
      "cell_type": "markdown",
      "metadata": {
        "id": "a1HV6d7baH0t",
        "colab_type": "text"
      },
      "source": [
        "After viewing with tensorboard by typing tensorboard --logdir=logs/ in the command line, I determined the two models that performed the best were 2-conv-128-neurons-2-dense and 2-conv-256-neurons-2-dense"
      ]
    },
    {
      "cell_type": "markdown",
      "metadata": {
        "id": "amzo_b1kDnxQ",
        "colab_type": "text"
      },
      "source": [
        "## Optimal Models"
      ]
    },
    {
      "cell_type": "code",
      "metadata": {
        "id": "469HggsjJCve",
        "colab_type": "code",
        "colab": {}
      },
      "source": [
        "model_2_conv_128_n_2_dense = Sequential()\n",
        "\n",
        "model_2_conv_128_n_2_dense.add(Conv2D(32, (3, 3), activation='relu'))\n",
        "model_2_conv_128_n_2_dense.add(BatchNormalization())\n",
        "model_2_conv_128_n_2_dense.add(MaxPool2D((2, 2)))\n",
        "model_2_conv_128_n_2_dense.add(Dropout(0.5))\n",
        "\n",
        "model_2_conv_128_n_2_dense.add(Conv2D(32, (3, 3), activation='relu'))\n",
        "model_2_conv_128_n_2_dense.add(BatchNormalization())\n",
        "model_2_conv_128_n_2_dense.add(MaxPool2D((2, 2)))\n",
        "model_2_conv_128_n_2_dense.add(Dropout(0.5))\n",
        "\n",
        "model_2_conv_128_n_2_dense.add(Flatten())\n",
        "\n",
        "model_2_conv_128_n_2_dense.add(Dense(10, activation='softmax'))\n",
        "\n",
        "opt = tf.keras.optimizers.Adam(learning_rate=0.0001)\n",
        "\n",
        "model_2_conv_128_n_2_dense.compile(optimizer=opt, loss='sparse_categorical_crossentropy', \n",
        "                                     metrics=['accuracy'])\n",
        "\n",
        "early_stopping = EarlyStopping(monitor='val_loss', mode='min', patience=3)"
      ],
      "execution_count": 7,
      "outputs": []
    },
    {
      "cell_type": "code",
      "metadata": {
        "id": "7xxtse3uLOtv",
        "colab_type": "code",
        "colab": {
          "base_uri": "https://localhost:8080/",
          "height": 714
        },
        "outputId": "294aaf3b-86d5-4d07-e025-0b88e564a789"
      },
      "source": [
        "model_2_conv_128_n_2_dense.fit(X_train, y_train, batch_size=64, epochs=20,\n",
        "                               validation_data=(X_test, y_test), callbacks=[early_stopping])"
      ],
      "execution_count": 8,
      "outputs": [
        {
          "output_type": "stream",
          "text": [
            "Epoch 1/20\n",
            "938/938 [==============================] - 3s 3ms/step - loss: 1.7795 - accuracy: 0.5095 - val_loss: 0.6914 - val_accuracy: 0.7408\n",
            "Epoch 2/20\n",
            "938/938 [==============================] - 3s 3ms/step - loss: 0.9239 - accuracy: 0.6956 - val_loss: 0.5908 - val_accuracy: 0.7785\n",
            "Epoch 3/20\n",
            "938/938 [==============================] - 3s 3ms/step - loss: 0.7493 - accuracy: 0.7407 - val_loss: 0.5274 - val_accuracy: 0.8037\n",
            "Epoch 4/20\n",
            "938/938 [==============================] - 3s 3ms/step - loss: 0.6555 - accuracy: 0.7661 - val_loss: 0.4909 - val_accuracy: 0.8209\n",
            "Epoch 5/20\n",
            "938/938 [==============================] - 3s 3ms/step - loss: 0.5928 - accuracy: 0.7874 - val_loss: 0.4681 - val_accuracy: 0.8315\n",
            "Epoch 6/20\n",
            "938/938 [==============================] - 3s 3ms/step - loss: 0.5450 - accuracy: 0.8025 - val_loss: 0.4414 - val_accuracy: 0.8437\n",
            "Epoch 7/20\n",
            "938/938 [==============================] - 3s 3ms/step - loss: 0.5091 - accuracy: 0.8162 - val_loss: 0.4282 - val_accuracy: 0.8488\n",
            "Epoch 8/20\n",
            "938/938 [==============================] - 3s 3ms/step - loss: 0.4855 - accuracy: 0.8232 - val_loss: 0.4120 - val_accuracy: 0.8568\n",
            "Epoch 9/20\n",
            "938/938 [==============================] - 3s 3ms/step - loss: 0.4649 - accuracy: 0.8309 - val_loss: 0.4069 - val_accuracy: 0.8574\n",
            "Epoch 10/20\n",
            "938/938 [==============================] - 3s 3ms/step - loss: 0.4513 - accuracy: 0.8373 - val_loss: 0.3988 - val_accuracy: 0.8576\n",
            "Epoch 11/20\n",
            "938/938 [==============================] - 3s 3ms/step - loss: 0.4370 - accuracy: 0.8407 - val_loss: 0.3844 - val_accuracy: 0.8643\n",
            "Epoch 12/20\n",
            "938/938 [==============================] - 3s 3ms/step - loss: 0.4251 - accuracy: 0.8464 - val_loss: 0.3909 - val_accuracy: 0.8624\n",
            "Epoch 13/20\n",
            "938/938 [==============================] - 3s 3ms/step - loss: 0.4167 - accuracy: 0.8483 - val_loss: 0.3807 - val_accuracy: 0.8629\n",
            "Epoch 14/20\n",
            "938/938 [==============================] - 3s 3ms/step - loss: 0.4075 - accuracy: 0.8522 - val_loss: 0.3680 - val_accuracy: 0.8692\n",
            "Epoch 15/20\n",
            "938/938 [==============================] - 3s 3ms/step - loss: 0.4027 - accuracy: 0.8544 - val_loss: 0.3701 - val_accuracy: 0.8685\n",
            "Epoch 16/20\n",
            "938/938 [==============================] - 3s 3ms/step - loss: 0.3961 - accuracy: 0.8561 - val_loss: 0.3582 - val_accuracy: 0.8735\n",
            "Epoch 17/20\n",
            "938/938 [==============================] - 3s 3ms/step - loss: 0.3884 - accuracy: 0.8583 - val_loss: 0.3541 - val_accuracy: 0.8739\n",
            "Epoch 18/20\n",
            "938/938 [==============================] - 3s 3ms/step - loss: 0.3854 - accuracy: 0.8595 - val_loss: 0.3448 - val_accuracy: 0.8768\n",
            "Epoch 19/20\n",
            "938/938 [==============================] - 3s 3ms/step - loss: 0.3809 - accuracy: 0.8631 - val_loss: 0.3530 - val_accuracy: 0.8723\n",
            "Epoch 20/20\n",
            "938/938 [==============================] - 3s 3ms/step - loss: 0.3757 - accuracy: 0.8644 - val_loss: 0.3524 - val_accuracy: 0.8739\n"
          ],
          "name": "stdout"
        },
        {
          "output_type": "execute_result",
          "data": {
            "text/plain": [
              "<tensorflow.python.keras.callbacks.History at 0x7fc460188ef0>"
            ]
          },
          "metadata": {
            "tags": []
          },
          "execution_count": 8
        }
      ]
    },
    {
      "cell_type": "code",
      "metadata": {
        "id": "SQTHo-xOcq2O",
        "colab_type": "code",
        "colab": {}
      },
      "source": [
        "model_2_conv_256_n_2_dense = Sequential()\n",
        "\n",
        "model_2_conv_256_n_2_dense.add(Conv2D(256, (3,3), activation='relu'))\n",
        "model_2_conv_256_n_2_dense.add(BatchNormalization())\n",
        "model_2_conv_256_n_2_dense.add(MaxPool2D((2, 2), padding='same'))\n",
        "model_2_conv_256_n_2_dense.add(Dropout(0.3))\n",
        "\n",
        "model_2_conv_256_n_2_dense.add(Conv2D(256, (3,3), activation='relu'))\n",
        "model_2_conv_256_n_2_dense.add(BatchNormalization())\n",
        "model_2_conv_256_n_2_dense.add(MaxPool2D((2,2)))\n",
        "model_2_conv_256_n_2_dense.add(Dropout(0.3))\n",
        "\n",
        "model_2_conv_256_n_2_dense.add(Flatten())\n",
        "\n",
        "model_2_conv_256_n_2_dense.add(Dense(256, activation='relu'))\n",
        "model_2_conv_256_n_2_dense.add(BatchNormalization())\n",
        "model_2_conv_256_n_2_dense.add(Dropout(0.3))\n",
        "\n",
        "model_2_conv_256_n_2_dense.add(Dense(10, activation='softmax'))\n",
        "\n",
        "early_stopping = EarlyStopping(monitor='val_loss', mode='min', patience=3)\n",
        "\n",
        "model_2_conv_256_n_2_dense_opt = tf.keras.optimizers.Adam(learning_rate=0.0001)\n",
        "\n",
        "model_2_conv_256_n_2_dense.compile(optimizer=model_2_conv_256_n_2_dense_opt,\n",
        "                                    loss='sparse_categorical_crossentropy', metrics=['accuracy'])"
      ],
      "execution_count": 9,
      "outputs": []
    },
    {
      "cell_type": "code",
      "metadata": {
        "id": "B4ERdhHSd65u",
        "colab_type": "code",
        "colab": {
          "base_uri": "https://localhost:8080/",
          "height": 578
        },
        "outputId": "9aade4f5-db79-4745-8d65-40e81601b733"
      },
      "source": [
        "model_2_conv_256_n_2_dense.fit(X_train, y_train, batch_size=64, epochs=20,\n",
        "                               validation_data=(X_test, y_test), callbacks=[early_stopping])"
      ],
      "execution_count": 10,
      "outputs": [
        {
          "output_type": "stream",
          "text": [
            "Epoch 1/20\n",
            "938/938 [==============================] - 13s 13ms/step - loss: 0.5831 - accuracy: 0.7929 - val_loss: 0.4039 - val_accuracy: 0.8522\n",
            "Epoch 2/20\n",
            "938/938 [==============================] - 12s 13ms/step - loss: 0.3893 - accuracy: 0.8597 - val_loss: 0.3452 - val_accuracy: 0.8731\n",
            "Epoch 3/20\n",
            "938/938 [==============================] - 12s 13ms/step - loss: 0.3335 - accuracy: 0.8799 - val_loss: 0.2898 - val_accuracy: 0.8922\n",
            "Epoch 4/20\n",
            "938/938 [==============================] - 12s 13ms/step - loss: 0.2935 - accuracy: 0.8945 - val_loss: 0.2817 - val_accuracy: 0.8975\n",
            "Epoch 5/20\n",
            "938/938 [==============================] - 12s 13ms/step - loss: 0.2701 - accuracy: 0.9013 - val_loss: 0.2551 - val_accuracy: 0.9072\n",
            "Epoch 6/20\n",
            "938/938 [==============================] - 12s 13ms/step - loss: 0.2466 - accuracy: 0.9095 - val_loss: 0.2657 - val_accuracy: 0.8988\n",
            "Epoch 7/20\n",
            "938/938 [==============================] - 12s 13ms/step - loss: 0.2309 - accuracy: 0.9145 - val_loss: 0.2425 - val_accuracy: 0.9113\n",
            "Epoch 8/20\n",
            "938/938 [==============================] - 12s 13ms/step - loss: 0.2169 - accuracy: 0.9201 - val_loss: 0.2590 - val_accuracy: 0.9026\n",
            "Epoch 9/20\n",
            "938/938 [==============================] - 12s 13ms/step - loss: 0.2041 - accuracy: 0.9256 - val_loss: 0.2549 - val_accuracy: 0.9041\n",
            "Epoch 10/20\n",
            "938/938 [==============================] - 13s 13ms/step - loss: 0.1934 - accuracy: 0.9304 - val_loss: 0.2374 - val_accuracy: 0.9149\n",
            "Epoch 11/20\n",
            "938/938 [==============================] - 13s 13ms/step - loss: 0.1819 - accuracy: 0.9334 - val_loss: 0.2181 - val_accuracy: 0.9225\n",
            "Epoch 12/20\n",
            "938/938 [==============================] - 13s 13ms/step - loss: 0.1728 - accuracy: 0.9364 - val_loss: 0.2330 - val_accuracy: 0.9141\n",
            "Epoch 13/20\n",
            "938/938 [==============================] - 13s 13ms/step - loss: 0.1648 - accuracy: 0.9394 - val_loss: 0.2073 - val_accuracy: 0.9267\n",
            "Epoch 14/20\n",
            "938/938 [==============================] - 12s 13ms/step - loss: 0.1529 - accuracy: 0.9433 - val_loss: 0.2242 - val_accuracy: 0.9187\n",
            "Epoch 15/20\n",
            "938/938 [==============================] - 13s 14ms/step - loss: 0.1458 - accuracy: 0.9457 - val_loss: 0.2506 - val_accuracy: 0.9075\n",
            "Epoch 16/20\n",
            "938/938 [==============================] - 13s 13ms/step - loss: 0.1407 - accuracy: 0.9479 - val_loss: 0.2154 - val_accuracy: 0.9216\n"
          ],
          "name": "stdout"
        },
        {
          "output_type": "execute_result",
          "data": {
            "text/plain": [
              "<tensorflow.python.keras.callbacks.History at 0x7fc41a545da0>"
            ]
          },
          "metadata": {
            "tags": []
          },
          "execution_count": 10
        }
      ]
    },
    {
      "cell_type": "code",
      "metadata": {
        "id": "SmnvhgI6eL8U",
        "colab_type": "code",
        "colab": {
          "base_uri": "https://localhost:8080/",
          "height": 34
        },
        "outputId": "787bd607-501f-4763-b136-394f7e5191f8"
      },
      "source": [
        "X_train.shape"
      ],
      "execution_count": null,
      "outputs": [
        {
          "output_type": "execute_result",
          "data": {
            "text/plain": [
              "(60000, 28, 28, 1)"
            ]
          },
          "metadata": {
            "tags": []
          },
          "execution_count": 34
        }
      ]
    },
    {
      "cell_type": "markdown",
      "metadata": {
        "id": "8uRQWBy6bWFg",
        "colab_type": "text"
      },
      "source": [
        "# Importing Images from Vans"
      ]
    },
    {
      "cell_type": "code",
      "metadata": {
        "id": "O5e7E6zPbVtV",
        "colab_type": "code",
        "colab": {}
      },
      "source": [
        "data_path = os.path.join(path, 'data')\n",
        "os.chdir(data_path)"
      ],
      "execution_count": 33,
      "outputs": []
    },
    {
      "cell_type": "code",
      "metadata": {
        "id": "iJgb8VnmbgiV",
        "colab_type": "code",
        "colab": {}
      },
      "source": [
        "df = pd.DataFrame(columns=['img_id', 'label'])\n",
        "for folder in os.listdir():\n",
        "  folder_path = os.path.join(data_path, folder)\n",
        "  os.chdir(folder_path)\n",
        "\n",
        "  for images in os.listdir():\n",
        "    df_2 = pd.DataFrame([[images, folder]], columns=['img_id', 'label'])\n",
        "    df = df.append(df_2)\n",
        "  \n",
        "  os.chdir('..')"
      ],
      "execution_count": 34,
      "outputs": []
    },
    {
      "cell_type": "code",
      "metadata": {
        "id": "KiyC3-kVbjq_",
        "colab_type": "code",
        "colab": {
          "base_uri": "https://localhost:8080/",
          "height": 238
        },
        "outputId": "db27e818-6737-4684-ed55-0cad1b259b21"
      },
      "source": [
        "X = []\n",
        "\n",
        "for folder in tqdm(os.listdir()):\n",
        "  folder_path = os.path.join(data_path, folder)\n",
        "  os.chdir(folder_path)\n",
        "\n",
        "  for images in os.listdir():\n",
        "    img_path = os.path.join(folder_path, images)\n",
        "    img = image.load_img(img_path, target_size=(28, 28, 1), color_mode='grayscale')\n",
        "    img = PIL.ImageOps.invert(img)\n",
        "    img = image.img_to_array(img)\n",
        "    img /= 255.0\n",
        "    X.append(img)\n",
        "\n",
        "X = np.array(X)"
      ],
      "execution_count": 38,
      "outputs": [
        {
          "output_type": "stream",
          "text": [
            "\n",
            "\n",
            "  0%|          | 0/9 [00:00<?, ?it/s]\u001b[A\u001b[A\n",
            "\n",
            " 11%|█         | 1/9 [00:00<00:01,  6.85it/s]\u001b[A\u001b[A\n",
            "\n",
            " 22%|██▏       | 2/9 [00:00<00:01,  6.54it/s]\u001b[A\u001b[A\n",
            "\n",
            " 78%|███████▊  | 7/9 [00:50<00:06,  3.13s/it]\u001b[A\u001b[A\n",
            "\n",
            " 89%|████████▉ | 8/9 [00:53<00:03,  3.02s/it]\u001b[A\u001b[A\n",
            "\n",
            "100%|██████████| 9/9 [01:23<00:00,  9.32s/it]\n"
          ],
          "name": "stderr"
        }
      ]
    },
    {
      "cell_type": "code",
      "metadata": {
        "id": "s362myonbp0j",
        "colab_type": "code",
        "colab": {}
      },
      "source": [
        "df['label'] = df['label'].map({'T-shirt': 0, 'pants': 1, 'pullovers': 2,\n",
        "                               'dress': 3, 'coats': 4, 'sandals': 5,\n",
        "                               'long_sleeve_shirt': 6, 'sneakers': 7,\n",
        "                               'Bag': 8, 'High Tops': 9})"
      ],
      "execution_count": 39,
      "outputs": []
    },
    {
      "cell_type": "code",
      "metadata": {
        "id": "hocrpxaZbyQ9",
        "colab_type": "code",
        "colab": {}
      },
      "source": [
        "X_val = X\n",
        "y_val = df['label'].reset_index(drop=True)"
      ],
      "execution_count": 40,
      "outputs": []
    },
    {
      "cell_type": "markdown",
      "metadata": {
        "id": "CHSKkjl_EHIU",
        "colab_type": "text"
      },
      "source": [
        "## Predicting Products with Models"
      ]
    },
    {
      "cell_type": "code",
      "metadata": {
        "id": "PJqd6dq3LzM5",
        "colab_type": "code",
        "colab": {}
      },
      "source": [
        "y_pred_test = model_2_conv_128_n_2_dense.predict(X_val)"
      ],
      "execution_count": 41,
      "outputs": []
    },
    {
      "cell_type": "code",
      "metadata": {
        "id": "t7BD5kZmL1oD",
        "colab_type": "code",
        "colab": {
          "base_uri": "https://localhost:8080/",
          "height": 35
        },
        "outputId": "76277fe8-effe-40be-8165-02309771300e"
      },
      "source": [
        "labels[np.argsort(y_pred_test[102])[-1]]"
      ],
      "execution_count": 65,
      "outputs": [
        {
          "output_type": "execute_result",
          "data": {
            "application/vnd.google.colaboratory.intrinsic+json": {
              "type": "string"
            },
            "text/plain": [
              "'T-shirt/top'"
            ]
          },
          "metadata": {
            "tags": []
          },
          "execution_count": 65
        }
      ]
    },
    {
      "cell_type": "code",
      "metadata": {
        "id": "ilZVP18_QxOA",
        "colab_type": "code",
        "colab": {
          "base_uri": "https://localhost:8080/",
          "height": 282
        },
        "outputId": "55ec5fdb-c4fc-4c86-d5f2-0eff9e37edd1"
      },
      "source": [
        "plt.imshow(X_val[102][:, :, 0], cmap='gray')"
      ],
      "execution_count": 64,
      "outputs": [
        {
          "output_type": "execute_result",
          "data": {
            "text/plain": [
              "<matplotlib.image.AxesImage at 0x7fc39d29c8d0>"
            ]
          },
          "metadata": {
            "tags": []
          },
          "execution_count": 64
        },
        {
          "output_type": "display_data",
          "data": {
            "image/png": "[encoded data removed]",
            "text/plain": [
              "<Figure size 432x288 with 1 Axes>"
            ]
          },
          "metadata": {
            "tags": []
          }
        }
      ]
    },
    {
      "cell_type": "code",
      "metadata": {
        "id": "QWHINxQutLg6",
        "colab_type": "code",
        "colab": {}
      },
      "source": [
        "y_pred_test_256 = model_2_conv_256_n_2_dense.predict(X_val)"
      ],
      "execution_count": 44,
      "outputs": []
    },
    {
      "cell_type": "code",
      "metadata": {
        "id": "T0lFa3FTwE76",
        "colab_type": "code",
        "colab": {
          "base_uri": "https://localhost:8080/",
          "height": 35
        },
        "outputId": "393cf181-6188-4e15-a988-6ee4899fd525"
      },
      "source": [
        "labels[np.argsort(y_pred_test_256[200])[-1]]"
      ],
      "execution_count": 45,
      "outputs": [
        {
          "output_type": "execute_result",
          "data": {
            "application/vnd.google.colaboratory.intrinsic+json": {
              "type": "string"
            },
            "text/plain": [
              "'Sneaker'"
            ]
          },
          "metadata": {
            "tags": []
          },
          "execution_count": 45
        }
      ]
    },
    {
      "cell_type": "code",
      "metadata": {
        "id": "0nrate9lTcZ1",
        "colab_type": "code",
        "colab": {
          "base_uri": "https://localhost:8080/",
          "height": 282
        },
        "outputId": "0f8f5e14-d2e6-4776-d845-5cc034ed779d"
      },
      "source": [
        "plt.imshow(X_val[200][:, :, 0], cmap='gray')"
      ],
      "execution_count": 46,
      "outputs": [
        {
          "output_type": "execute_result",
          "data": {
            "text/plain": [
              "<matplotlib.image.AxesImage at 0x7fc4080a45c0>"
            ]
          },
          "metadata": {
            "tags": []
          },
          "execution_count": 46
        },
        {
          "output_type": "display_data",
          "data": {
            "image/png": "[encoded data removed]",
            "text/plain": [
              "<Figure size 432x288 with 1 Axes>"
            ]
          },
          "metadata": {
            "tags": []
          }
        }
      ]
    },
    {
      "cell_type": "markdown",
      "metadata": {
        "id": "LcDv5rbZGINi",
        "colab_type": "text"
      },
      "source": [
        "## Model Evaluation"
      ]
    },
    {
      "cell_type": "code",
      "metadata": {
        "id": "8kUKtnYRj_Nn",
        "colab_type": "code",
        "colab": {}
      },
      "source": [
        "from sklearn.metrics import confusion_matrix, classification_report"
      ],
      "execution_count": 20,
      "outputs": []
    },
    {
      "cell_type": "code",
      "metadata": {
        "id": "HXKo67N2pGSI",
        "colab_type": "code",
        "colab": {}
      },
      "source": [
        "predictions_128_model = [np.argsort(i)[-1] for i in y_pred_test]\n",
        "\n",
        "predictions_256_model = [np.argsort(i)[-1] for i in y_pred_test_256]"
      ],
      "execution_count": 47,
      "outputs": []
    },
    {
      "cell_type": "code",
      "metadata": {
        "id": "fV-YTQOVpVem",
        "colab_type": "code",
        "colab": {}
      },
      "source": [
        "def plot_confusion_matrix(cm, classes, figname, normalize=False, \n",
        "                          title='Confusion matrix', cmap=plt.cm.Blues):\n",
        " \"\"\"\n",
        " This function prints and plots the confusion matrix.\n",
        " Normalization can be applied by setting `normalize=True`.\n",
        " \"\"\"\n",
        " import numpy as np\n",
        " import matplotlib.pyplot as plt\n",
        " import itertools\n",
        " import seaborn as sns\n",
        " if normalize:\n",
        "  cm = cm.astype('float') / cm.sum(axis=1)[:, np.newaxis]\n",
        "  print('Normalized confusion matrix')\n",
        " else:\n",
        "  print('Confusion matrix, without normalization')\n",
        "\n",
        "  sns.set_style('dark')\n",
        "\n",
        "  plt.figure(figsize=(8,8))\n",
        "  plt.imshow(cm, interpolation='nearest', cmap=cmap)\n",
        "  plt.title(title)\n",
        "  #plt.colorbar()\n",
        "  tick_marks = np.arange(len(classes))\n",
        "  plt.xticks(tick_marks, classes, rotation=90)\n",
        "  plt.yticks(tick_marks, classes)\n",
        "  fmt = '.2f' if normalize else 'd'\n",
        "  thresh = cm.max() / 2.\n",
        "  for i, j in itertools.product(range(cm.shape[0]), range(cm.shape[1])):\n",
        "    plt.text(j, i, format(cm[i, j], fmt),\n",
        "    horizontalalignment='center',\n",
        "    color='white' if cm[i, j] > thresh else 'black')\n",
        "  \n",
        "  plt.ylabel('True label')\n",
        "  plt.xlabel('Predicted label')\n",
        "  plt.tight_layout()\n",
        "  plt.savefig(figname)"
      ],
      "execution_count": 22,
      "outputs": []
    },
    {
      "cell_type": "code",
      "metadata": {
        "id": "QMrljRaYqF-F",
        "colab_type": "code",
        "colab": {
          "base_uri": "https://localhost:8080/",
          "height": 602
        },
        "outputId": "84b1f849-4c0d-4ae2-e809-ea013573ad45"
      },
      "source": [
        "cm_128 = confusion_matrix(y_val, predictions_128_model)\n",
        "plot_confusion_matrix(cm_128, classes=labels.values(), figname='Confusion_matrix_concrete.jpg',\n",
        "                      normalize=False, title='128 Neuron Model Confusion Matrix')"
      ],
      "execution_count": 48,
      "outputs": [
        {
          "output_type": "stream",
          "text": [
            "Confusion matrix, without normalization\n"
          ],
          "name": "stdout"
        },
        {
          "output_type": "display_data",
          "data": {
            "image/png": "[encoded data removed]",
            "text/plain": [
              "<Figure size 576x576 with 1 Axes>"
            ]
          },
          "metadata": {
            "tags": []
          }
        }
      ]
    },
    {
      "cell_type": "code",
      "metadata": {
        "id": "bXOhWVYKqiJx",
        "colab_type": "code",
        "colab": {
          "base_uri": "https://localhost:8080/",
          "height": 377
        },
        "outputId": "a7f1e132-35ae-4794-8d8c-8c4d37f56eec"
      },
      "source": [
        "print('128 Neuron Classification Report')\n",
        "print(classification_report(y_val, predictions_128_model))"
      ],
      "execution_count": 49,
      "outputs": [
        {
          "output_type": "stream",
          "text": [
            "128 Neuron Classification Report\n",
            "              precision    recall  f1-score   support\n",
            "\n",
            "           0       0.85      0.76      0.80        62\n",
            "           1       0.50      0.67      0.57         6\n",
            "           2       0.04      0.15      0.06        13\n",
            "           3       0.00      0.00      0.00         0\n",
            "           4       0.33      1.00      0.50         8\n",
            "           5       0.00      0.00      0.00         8\n",
            "           6       0.38      0.27      0.32        51\n",
            "           7       0.83      0.81      0.82       422\n",
            "           8       0.00      0.00      0.00         0\n",
            "           9       1.00      0.04      0.09        90\n",
            "\n",
            "    accuracy                           0.64       660\n",
            "   macro avg       0.39      0.37      0.32       660\n",
            "weighted avg       0.79      0.64      0.65       660\n",
            "\n"
          ],
          "name": "stdout"
        },
        {
          "output_type": "stream",
          "text": [
            "/usr/local/lib/python3.6/dist-packages/sklearn/metrics/_classification.py:1272: UndefinedMetricWarning: Recall and F-score are ill-defined and being set to 0.0 in labels with no true samples. Use `zero_division` parameter to control this behavior.\n",
            "  _warn_prf(average, modifier, msg_start, len(result))\n"
          ],
          "name": "stderr"
        }
      ]
    },
    {
      "cell_type": "code",
      "metadata": {
        "id": "oFIw2iFmrpBJ",
        "colab_type": "code",
        "colab": {
          "base_uri": "https://localhost:8080/",
          "height": 602
        },
        "outputId": "37112d9f-8f36-4d08-ca62-8d4530259609"
      },
      "source": [
        "cm_256 = confusion_matrix(y_val, predictions_256_model)\n",
        "plot_confusion_matrix(cm_256, classes=labels.values(), figname='Confusion_matrix_concrete.jpg',\n",
        "                      normalize=False, title='256 Neuron Model Confusion Matrix')"
      ],
      "execution_count": 50,
      "outputs": [
        {
          "output_type": "stream",
          "text": [
            "Confusion matrix, without normalization\n"
          ],
          "name": "stdout"
        },
        {
          "output_type": "display_data",
          "data": {
            "image/png": "[encoded data removed]",
            "text/plain": [
              "<Figure size 576x576 with 1 Axes>"
            ]
          },
          "metadata": {
            "tags": []
          }
        }
      ]
    },
    {
      "cell_type": "code",
      "metadata": {
        "id": "T1OITr_Ut3Q2",
        "colab_type": "code",
        "colab": {
          "base_uri": "https://localhost:8080/",
          "height": 377
        },
        "outputId": "e4fa3d36-fd38-4c1b-ddef-c107f9c10597"
      },
      "source": [
        "print('256 Neuron Classification Report')\n",
        "print(classification_report(y_val, predictions_256_model))"
      ],
      "execution_count": 51,
      "outputs": [
        {
          "output_type": "stream",
          "text": [
            "256 Neuron Classification Report\n",
            "              precision    recall  f1-score   support\n",
            "\n",
            "           0       0.37      0.58      0.45        62\n",
            "           1       0.33      0.33      0.33         6\n",
            "           2       0.00      0.00      0.00        13\n",
            "           3       0.00      0.00      0.00         0\n",
            "           4       0.10      0.38      0.15         8\n",
            "           5       0.00      0.00      0.00         8\n",
            "           6       0.29      0.31      0.30        51\n",
            "           7       0.83      0.61      0.70       422\n",
            "           8       0.00      0.00      0.00         0\n",
            "           9       0.00      0.00      0.00        90\n",
            "\n",
            "    accuracy                           0.47       660\n",
            "   macro avg       0.19      0.22      0.19       660\n",
            "weighted avg       0.59      0.47      0.52       660\n",
            "\n"
          ],
          "name": "stdout"
        },
        {
          "output_type": "stream",
          "text": [
            "/usr/local/lib/python3.6/dist-packages/sklearn/metrics/_classification.py:1272: UndefinedMetricWarning: Recall and F-score are ill-defined and being set to 0.0 in labels with no true samples. Use `zero_division` parameter to control this behavior.\n",
            "  _warn_prf(average, modifier, msg_start, len(result))\n"
          ],
          "name": "stderr"
        }
      ]
    },
    {
      "cell_type": "markdown",
      "metadata": {
        "id": "YfTzVX4OG-cL",
        "colab_type": "text"
      },
      "source": [
        "It looks like the 128 neuron model did a decent job of correctly predicting the product class. It seems as if 64% of our predictions are correct with this model for data it has never seen before. It did a very good job predicting which images were sneakers, however it struggled a bit with predicting some sneakers as pullover sweaters."
      ]
    }
  ]
}