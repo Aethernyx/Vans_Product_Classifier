{
 "cells": [
  {
   "cell_type": "code",
   "execution_count": 1,
   "metadata": {},
   "outputs": [],
   "source": [
    "import pandas as pd\n",
    "import numpy as np\n",
    "import matplotlib.pyplot as plt\n",
    "import seaborn as sns\n",
    "sns.set_style('darkgrid')\n",
    "\n",
    "import requests\n",
    "from bs4 import BeautifulSoup\n",
    "import re\n",
    "import os\n",
    "import selenium\n",
    "from selenium import webdriver\n",
    "from selenium.webdriver.support.ui import WebDriverWait\n",
    "from selenium.webdriver.support import expected_conditions as EC\n",
    "from selenium.webdriver.common.by import By\n",
    "from selenium.common.exceptions import TimeoutException\n",
    "from selenium.webdriver.common.keys import Keys\n",
    "import time\n",
    "\n",
    "from selenium.common.exceptions import NoSuchElementException"
   ]
  },
  {
   "cell_type": "code",
   "execution_count": 2,
   "metadata": {},
   "outputs": [],
   "source": [
    "chromedriver = '/Users/alex/Downloads/chromedriver 3'\n",
    "browser = webdriver.Chrome(chromedriver)"
   ]
  },
  {
   "cell_type": "code",
   "execution_count": 3,
   "metadata": {},
   "outputs": [],
   "source": [
    "vans_url = 'https://www.vans.com/shop.html?icn=topnav'\n",
    "browser.get(vans_url)"
   ]
  },
  {
   "cell_type": "code",
   "execution_count": 4,
   "metadata": {},
   "outputs": [],
   "source": [
    "def scroll_down():\n",
    "    body = browser.find_element_by_css_selector('body')\n",
    "    body.send_keys(Keys.PAGE_DOWN)"
   ]
  },
  {
   "cell_type": "code",
   "execution_count": 7,
   "metadata": {},
   "outputs": [],
   "source": [
    "abs_path = '/Users/alex/desktop/python_work/python_projects/Vans_Image_Classifier/val_data'\n",
    "os.chdir(abs_path)\n",
    "def get_product_images(category):\n",
    "    if (category.lower() == 'men shoes') or (category.lower() == 'women shoes'):\n",
    "        browser.find_element_by_xpath(\n",
    "            '//*[@id=\"body-container\"]/div/div[4]/div/div/section[2]/div/div[1]/div/div/ul/li[1]/a').click()\n",
    "        images = []\n",
    "        if len(images) < 200:\n",
    "            for i in range(10):\n",
    "                scroll_down()\n",
    "            resp_data = browser.page_source\n",
    "            soup = BeautifulSoup(resp_data, 'html.parser')\n",
    "            images = soup.find_all('source', attrs={'class':'product-block-views-selected-view-main-image product-block-views-selected-view-image product-views-selected-view-main-image main-view-js'})\n",
    "        \n",
    "        if not os.path.exists(category.lower()):\n",
    "            os.mkdir(category.lower())\n",
    "        os.chdir(abs_path + '/' + category.lower())\n",
    "        \n",
    "        for i in images:\n",
    "            image_url = 'https:' + images[i]['srcset']\n",
    "\n",
    "            # download the image\n",
    "            urllib.request.urlretrieve(image_url, 'vans_men_shoe_' + i)\n",
    "        os.chdir('..')\n",
    "        \n",
    "    elif (category.lower() == 'men clothing') or (category.lower() == 'women clothing'):\n",
    "        browser.find_element_by_xpath(\n",
    "            '//*[@id=\"body-container\"]/div/div[4]/div/div/section[2]/div/div[1]/div/div/ul/li[2]/a').click()\n",
    "        images = []\n",
    "        if len(images) < 200:\n",
    "            for i in range(10):\n",
    "                scroll_down()\n",
    "            resp_data = browser.page_source\n",
    "            soup = BeautifulSoup(resp_data, 'html.parser')\n",
    "            images = soup.find_all('source', attrs={'class':'product-block-views-selected-view-main-image product-block-views-selected-view-image product-views-selected-view-main-image main-view-js'})\n",
    "        \n",
    "        if not os.path.exists(category.lower()):\n",
    "            os.mkdir(category.lower())\n",
    "        os.chdir(abs_path + '/' + category.lower())\n",
    "        \n",
    "        for i in images:\n",
    "            image_url = 'https:' + images[i]['srcset']\n",
    "\n",
    "            # download the image\n",
    "            urllib.request.urlretrieve(image_url, 'vans_men_shoe_' + i)\n",
    "        os.chdir('..')\n",
    "        \n",
    "            \n",
    "            "
   ]
  },
  {
   "cell_type": "code",
   "execution_count": null,
   "metadata": {},
   "outputs": [],
   "source": [
    "get_product_images('men shoes')\n",
    "get_product_images('men clothing')\n",
    "get_product_images('women shoes')\n",
    "get_product_images('women clothing')"
   ]
  }
 ],
 "metadata": {
  "kernelspec": {
   "display_name": "Python 3",
   "language": "python",
   "name": "python3"
  },
  "language_info": {
   "codemirror_mode": {
    "name": "ipython",
    "version": 3
   },
   "file_extension": ".py",
   "mimetype": "text/x-python",
   "name": "python",
   "nbconvert_exporter": "python",
   "pygments_lexer": "ipython3",
   "version": "3.8.0"
  }
 },
 "nbformat": 4,
 "nbformat_minor": 2
}
